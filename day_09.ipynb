{
 "cells": [
  {
   "cell_type": "code",
   "execution_count": 4,
   "id": "e19f4248-9a6f-4276-8eaa-aed3fc6c05c1",
   "metadata": {},
   "outputs": [],
   "source": [
    "import pandas as pd\n",
    "import seaborn as sns\n",
    "from matplotlib import pyplot as plt\n",
    "import numpy as np\n"
   ]
  },
  {
   "cell_type": "markdown",
   "id": "2e984d3b-dd92-446d-afaa-80dc3b038ae7",
   "metadata": {},
   "source": [
    "## Day 9 \"outlier removal\""
   ]
  },
  {
   "cell_type": "code",
   "execution_count": 5,
   "id": "e0d0440f-b401-4482-a1df-83ab12723895",
   "metadata": {},
   "outputs": [
    {
     "data": {
      "text/html": [
       "<div>\n",
       "<style scoped>\n",
       "    .dataframe tbody tr th:only-of-type {\n",
       "        vertical-align: middle;\n",
       "    }\n",
       "\n",
       "    .dataframe tbody tr th {\n",
       "        vertical-align: top;\n",
       "    }\n",
       "\n",
       "    .dataframe thead th {\n",
       "        text-align: right;\n",
       "    }\n",
       "</style>\n",
       "<table border=\"1\" class=\"dataframe\">\n",
       "  <thead>\n",
       "    <tr style=\"text-align: right;\">\n",
       "      <th></th>\n",
       "      <th>sepal_length</th>\n",
       "      <th>sepal_width</th>\n",
       "      <th>petal_length</th>\n",
       "      <th>petal_width</th>\n",
       "      <th>species</th>\n",
       "    </tr>\n",
       "  </thead>\n",
       "  <tbody>\n",
       "    <tr>\n",
       "      <th>0</th>\n",
       "      <td>5.1</td>\n",
       "      <td>3.5</td>\n",
       "      <td>1.4</td>\n",
       "      <td>0.2</td>\n",
       "      <td>setosa</td>\n",
       "    </tr>\n",
       "    <tr>\n",
       "      <th>1</th>\n",
       "      <td>4.9</td>\n",
       "      <td>3.0</td>\n",
       "      <td>1.4</td>\n",
       "      <td>0.2</td>\n",
       "      <td>setosa</td>\n",
       "    </tr>\n",
       "    <tr>\n",
       "      <th>2</th>\n",
       "      <td>4.7</td>\n",
       "      <td>3.2</td>\n",
       "      <td>1.3</td>\n",
       "      <td>0.2</td>\n",
       "      <td>setosa</td>\n",
       "    </tr>\n",
       "    <tr>\n",
       "      <th>3</th>\n",
       "      <td>4.6</td>\n",
       "      <td>3.1</td>\n",
       "      <td>1.5</td>\n",
       "      <td>0.2</td>\n",
       "      <td>setosa</td>\n",
       "    </tr>\n",
       "    <tr>\n",
       "      <th>4</th>\n",
       "      <td>5.0</td>\n",
       "      <td>3.6</td>\n",
       "      <td>1.4</td>\n",
       "      <td>0.2</td>\n",
       "      <td>setosa</td>\n",
       "    </tr>\n",
       "  </tbody>\n",
       "</table>\n",
       "</div>"
      ],
      "text/plain": [
       "   sepal_length  sepal_width  petal_length  petal_width species\n",
       "0           5.1          3.5           1.4          0.2  setosa\n",
       "1           4.9          3.0           1.4          0.2  setosa\n",
       "2           4.7          3.2           1.3          0.2  setosa\n",
       "3           4.6          3.1           1.5          0.2  setosa\n",
       "4           5.0          3.6           1.4          0.2  setosa"
      ]
     },
     "execution_count": 5,
     "metadata": {},
     "output_type": "execute_result"
    }
   ],
   "source": [
    "df = sns.load_dataset(\"iris\")\n",
    "df.head()"
   ]
  },
  {
   "cell_type": "markdown",
   "id": "bed7d617-95a2-4562-b60c-c3fe317e16a6",
   "metadata": {},
   "source": [
    "## Removing outliers is essential to ensure the accuracy and reliability of statistical analyses, as outliers can skew results and distort interpretations, leading to misleading conclusions and compromised data integrity. By removing outliers, the overall distribution becomes more representative of the underlying data patterns, facilitating more accurate modeling and decision-making processes.\r\n",
    "\r\n",
    "\r\n",
    "\r\n",
    "\r\n",
    "\r\n",
    "\r\n",
    "\n",
    "\n",
    "\n",
    "\n",
    "\n",
    "\n",
    "\n"
   ]
  },
  {
   "cell_type": "code",
   "execution_count": 6,
   "id": "b2107e80-15ed-40f0-9cf2-dfa5f43cf05c",
   "metadata": {},
   "outputs": [
    {
     "data": {
      "text/plain": [
       "<Axes: >"
      ]
     },
     "execution_count": 6,
     "metadata": {},
     "output_type": "execute_result"
    },
    {
     "data": {
      "image/png": "[encoded data removed]",
      "text/plain": [
       "<Figure size 640x480 with 1 Axes>"
      ]
     },
     "metadata": {},
     "output_type": "display_data"
    }
   ],
   "source": [
    "#box plot of complete dataset\n",
    "sns.boxplot(data=df)"
   ]
  },
  {
   "cell_type": "markdown",
   "id": "69b91da5-106b-405a-973a-4c53cbabc385",
   "metadata": {},
   "source": [
    "from the above box plot we can see that we have some outliers in \"sepal_width\""
   ]
  },
  {
   "cell_type": "code",
   "execution_count": 7,
   "id": "a72437e0-b8e6-4a6a-9f4b-a40732f01878",
   "metadata": {},
   "outputs": [
    {
     "data": {
      "text/plain": [
       "<Axes: xlabel='sepal_width'>"
      ]
     },
     "execution_count": 7,
     "metadata": {},
     "output_type": "execute_result"
    },
    {
     "data": {
      "image/png": "[encoded data removed]",
      "text/plain": [
       "<Figure size 640x480 with 1 Axes>"
      ]
     },
     "metadata": {},
     "output_type": "display_data"
    }
   ],
   "source": [
    "#viualizing sepal_width for outlier detection\n",
    "sns.boxplot(data=df,x=\"sepal_width\")"
   ]
  },
  {
   "cell_type": "markdown",
   "id": "2d79340c-2847-43fe-8062-e8d008af7672",
   "metadata": {},
   "source": [
    "we can see that their are outliers which is smaller than 2.0 and greater than 4.0"
   ]
  },
  {
   "cell_type": "markdown",
   "id": "547ead22-d445-4817-83d8-c458cbbdfebc",
   "metadata": {},
   "source": [
    "## Removing outlier"
   ]
  },
  {
   "cell_type": "code",
   "execution_count": 9,
   "id": "274f1178-4ed9-4334-9cab-60ae9bb8b29c",
   "metadata": {},
   "outputs": [
    {
     "data": {
      "text/plain": [
       "count    150.000000\n",
       "mean       3.057333\n",
       "std        0.435866\n",
       "min        2.000000\n",
       "25%        2.800000\n",
       "50%        3.000000\n",
       "75%        3.300000\n",
       "max        4.400000\n",
       "Name: sepal_width, dtype: float64"
      ]
     },
     "execution_count": 9,
     "metadata": {},
     "output_type": "execute_result"
    }
   ],
   "source": [
    "# first we need to see the q1 and q3 using describe function\n",
    "df[\"sepal_width\"].describe()"
   ]
  },
  {
   "cell_type": "markdown",
   "id": "be0c3611-bdfe-4be3-b988-e0be3812c33b",
   "metadata": {},
   "source": [
    "In the above cell the 25% represent Q1 and 75% represent Q3 using these 2 parameters we can easily remove outliers"
   ]
  },
  {
   "cell_type": "code",
   "execution_count": 18,
   "id": "c53a1a04-f9cc-4712-8e7d-f674e2505298",
   "metadata": {},
   "outputs": [
    {
     "name": "stdout",
     "output_type": "stream",
     "text": [
      "IQR = 0.5\n",
      "lower = 2.05 , higher = 4.05\n"
     ]
    }
   ],
   "source": [
    "Q1,Q3 = np.percentile(df.sepal_width,[25,75])\n",
    "IQR =Q3-Q1\n",
    "print(\"IQR =\",IQR)\n",
    "lower_fence = Q1-1.5*(IQR)\n",
    "higher_fence = Q3+1.5*(IQR)\n",
    "print(\"lower =\", lower_fence,\", higher =\",higher_fence)"
   ]
  },
  {
   "cell_type": "code",
   "execution_count": 20,
   "id": "db01f93e-7356-4757-90ee-82908c212fae",
   "metadata": {},
   "outputs": [],
   "source": [
    "# Filter out rows where the values are within the lower and higher fences\n",
    "filtered_df = df[(df['sepal_width'] >= lower_fence) & (df['sepal_width'] <= higher_fence)]\n"
   ]
  },
  {
   "cell_type": "code",
   "execution_count": 25,
   "id": "baaf77f6-4ece-4eba-9ec1-150b9076b409",
   "metadata": {},
   "outputs": [
    {
     "data": {
      "text/plain": [
       "<Axes: ylabel='sepal_width'>"
      ]
     },
     "execution_count": 25,
     "metadata": {},
     "output_type": "execute_result"
    },
    {
     "data": {
      "image/png": "[encoded data removed]",
      "text/plain": [
       "<Figure size 640x480 with 1 Axes>"
      ]
     },
     "metadata": {},
     "output_type": "display_data"
    }
   ],
   "source": [
    "sns.boxplot(filtered_df.sepal_width)"
   ]
  },
  {
   "cell_type": "markdown",
   "id": "075a8aad-3cc7-4b79-9c49-6f59cc84d82d",
   "metadata": {},
   "source": [
    "Now you can see outliers are successfully removed."
   ]
  },
  {
   "cell_type": "markdown",
   "id": "9862c925-cb28-469f-af70-f57bb50b7294",
   "metadata": {},
   "source": [
    "## removing outliers from a simple distibution\n"
   ]
  },
  {
   "cell_type": "code",
   "execution_count": 64,
   "id": "7565558f-50c7-48b9-9e71-bb5ffab00af6",
   "metadata": {},
   "outputs": [
    {
     "data": {
      "text/plain": [
       "[1, 2, 2, 2, 3, 3, 4, 5, 5, 5, 6, 6, 6, 6, 7, 8, 8, 9, 27]"
      ]
     },
     "execution_count": 64,
     "metadata": {},
     "output_type": "execute_result"
    }
   ],
   "source": [
    "x = 1,2,2,2,3,3,4,5,5,5,6,6,6,6,7,8,8,9,27\n",
    "# first we need to sort the data in acesnding order\n",
    "sorted_data = sorted(x)\n",
    "sorted_data\n"
   ]
  },
  {
   "cell_type": "code",
   "execution_count": 65,
   "id": "5724ccc0-9e61-46e2-b073-d08c35ac6fe1",
   "metadata": {},
   "outputs": [
    {
     "data": {
      "text/plain": [
       "<Axes: >"
      ]
     },
     "execution_count": 65,
     "metadata": {},
     "output_type": "execute_result"
    },
    {
     "data": {
      "image/png": "[encoded data removed]",
      "text/plain": [
       "<Figure size 640x480 with 1 Axes>"
      ]
     },
     "metadata": {},
     "output_type": "display_data"
    }
   ],
   "source": [
    "#now we make a box plot to see outliers\n",
    "sns.boxplot(x)"
   ]
  },
  {
   "cell_type": "code",
   "execution_count": 66,
   "id": "9e142fac-28b7-4916-adff-d24dfb53b1d5",
   "metadata": {},
   "outputs": [
    {
     "name": "stdout",
     "output_type": "stream",
     "text": [
      "Q1= 3.0\n",
      "Q3= 6.5\n",
      "IQR = 3.5\n"
     ]
    }
   ],
   "source": [
    "#now we will find out the outliers using IQR\n",
    "Q1,Q3 = np.percentile(x,[25,75])\n",
    "print(\"Q1=\",Q1)\n",
    "print(\"Q3=\",Q3)\n",
    "IQR = Q3-Q1\n",
    "print(\"IQR =\",IQR)"
   ]
  },
  {
   "cell_type": "code",
   "execution_count": 67,
   "id": "ade2b059-c321-4d38-8394-a8fd7e60670c",
   "metadata": {},
   "outputs": [
    {
     "name": "stdout",
     "output_type": "stream",
     "text": [
      "lower = -2.25\n",
      "higher = 11.75\n"
     ]
    }
   ],
   "source": [
    "lower = Q1-1.5*(IQR)\n",
    "print(\"lower =\",lower)\n",
    "higher = Q3+1.5*(IQR)\n",
    "print(\"higher =\",higher)"
   ]
  },
  {
   "cell_type": "code",
   "execution_count": 68,
   "id": "4af241dd-15f6-467e-b8fb-42e38206dbf7",
   "metadata": {},
   "outputs": [],
   "source": [
    "#now removing values which are greater than higher and lower than lower\n",
    "\n",
    "# Convert x to a NumPy array\n",
    "x = np.array(x)\n",
    "# Remove values which are greater than higher and lower than lower\n",
    "filtered_x = x[(x >= lower) & (x <= higher)]\n",
    "\n",
    "\n"
   ]
  },
  {
   "cell_type": "code",
   "execution_count": 69,
   "id": "4b5d1f4e-5f97-4f8d-ad28-bbf3229bdd10",
   "metadata": {},
   "outputs": [
    {
     "data": {
      "text/plain": [
       "<Axes: >"
      ]
     },
     "execution_count": 69,
     "metadata": {},
     "output_type": "execute_result"
    },
    {
     "data": {
      "image/png": "[encoded data removed]",
      "text/plain": [
       "<Figure size 640x480 with 1 Axes>"
      ]
     },
     "metadata": {},
     "output_type": "display_data"
    }
   ],
   "source": [
    "sns.boxplot(filtered_x)"
   ]
  },
  {
   "cell_type": "code",
   "execution_count": null,
   "id": "7ee2e35c-2462-4d45-958b-221a4c70decc",
   "metadata": {},
   "outputs": [],
   "source": []
  }
 ],
 "metadata": {
  "kernelspec": {
   "display_name": "Python 3 (ipykernel)",
   "language": "python",
   "name": "python3"
  },
  "language_info": {
   "codemirror_mode": {
    "name": "ipython",
    "version": 3
   },
   "file_extension": ".py",
   "mimetype": "text/x-python",
   "name": "python",
   "nbconvert_exporter": "python",
   "pygments_lexer": "ipython3",
   "version": "3.12.1"
  }
 },
 "nbformat": 4,
 "nbformat_minor": 5
}
